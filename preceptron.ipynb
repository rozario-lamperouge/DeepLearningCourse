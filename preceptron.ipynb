{
  "nbformat": 4,
  "nbformat_minor": 0,
  "metadata": {
    "colab": {
      "name": "preceptron.ipynb",
      "provenance": [],
      "authorship_tag": "ABX9TyO9zPxZ/ROJDyitCxAOybrG",
      "include_colab_link": true
    },
    "kernelspec": {
      "display_name": "Python 3",
      "name": "python3"
    },
    "language_info": {
      "name": "python"
    }
  },
  "cells": [
    {
      "cell_type": "markdown",
      "metadata": {
        "id": "view-in-github",
        "colab_type": "text"
      },
      "source": [
        "<a href=\"https://colab.research.google.com/github/rozario-lamperouge/DeepLearningCourse/blob/main/preceptron.ipynb\" target=\"_parent\"><img src=\"https://colab.research.google.com/assets/colab-badge.svg\" alt=\"Open In Colab\"/></a>"
      ]
    },
    {
      "cell_type": "markdown",
      "metadata": {
        "id": "A478MxMvSvYY"
      },
      "source": [
        "##**Importing Our Libraries**"
      ]
    },
    {
      "cell_type": "code",
      "metadata": {
        "id": "CqEv6oJ8Spl1"
      },
      "source": [
        "import tensorflow as tf\n",
        "import numpy as np\n",
        "from tensorflow import keras"
      ],
      "execution_count": null,
      "outputs": []
    },
    {
      "cell_type": "markdown",
      "metadata": {
        "id": "ULzI8EazbG3q"
      },
      "source": [
        "## Initalizing Data"
      ]
    },
    {
      "cell_type": "code",
      "metadata": {
        "id": "T3VIXTq_TCOB"
      },
      "source": [
        "x = np.array([-1.0,  0.0, 1.0, 2.0, 3.0, 4.0], dtype='float')\n",
        "y = np.array([-10.0, 0.0, 10.0, 20.0, 30.0, 40.0], dtype='float')"
      ],
      "execution_count": null,
      "outputs": []
    },
    {
      "cell_type": "markdown",
      "metadata": {
        "id": "ANWQwOuKbK14"
      },
      "source": [
        "## Coding the preceptron"
      ]
    },
    {
      "cell_type": "code",
      "metadata": {
        "id": "sOxf0X-yS8ZC"
      },
      "source": [
        "model = tf.keras.Sequential([keras.layers.Dense(units=1,input_shape=[1])])"
      ],
      "execution_count": null,
      "outputs": []
    },
    {
      "cell_type": "code",
      "metadata": {
        "id": "9P1DIOrBS-wF"
      },
      "source": [
        "model.compile(optimizer='sgd',loss='mean_squared_error')"
      ],
      "execution_count": null,
      "outputs": []
    },
    {
      "cell_type": "code",
      "metadata": {
        "id": "GpLVCjr7TE-A"
      },
      "source": [
        "model.fit(x, y, epochs=500)"
      ],
      "execution_count": null,
      "outputs": []
    },
    {
      "cell_type": "code",
      "metadata": {
        "id": "X3E7ZXsNTHI_",
        "colab": {
          "base_uri": "https://localhost:8080/"
        },
        "outputId": "f2d1d5c5-9c9c-46b6-f75d-1215202b28b7"
      },
      "source": [
        "print(model.predict([12.0]))"
      ],
      "execution_count": null,
      "outputs": [
        {
          "output_type": "stream",
          "name": "stdout",
          "text": [
            "[[119.94816]]\n"
          ]
        }
      ]
    },
    {
      "cell_type": "code",
      "metadata": {
        "id": "pKR817Eqm671"
      },
      "source": [
        "model.summary())"
      ],
      "execution_count": null,
      "outputs": []
    },
    {
      "cell_type": "markdown",
      "metadata": {
        "id": "-ztD0OXibTuz"
      },
      "source": [
        "\n",
        "\n",
        "---\n",
        "\n",
        "\n",
        "\n",
        "\n",
        "\n",
        "\n",
        "---\n"
      ]
    },
    {
      "cell_type": "markdown",
      "metadata": {
        "id": "CJhk7-88bpLp"
      },
      "source": [
        "## **Looking At A Better Preceptron Example**"
      ]
    },
    {
      "cell_type": "code",
      "metadata": {
        "id": "xEoPnzy9Zz_U"
      },
      "source": [
        "X = [[180,9],[154,6],[155,7],[178,10],[186,10],[168,8],[178,9],[170,9],[172,8],[173,9],[174,9],[188,13]]\n",
        "Y = [1,0,0,1,1,1,1,0,1,1,1,1]"
      ],
      "execution_count": null,
      "outputs": []
    },
    {
      "cell_type": "code",
      "metadata": {
        "id": "P_Zhb_fZZ48X"
      },
      "source": [
        "# Create the Perceptron\n",
        "model = tf.keras.Sequential()\n",
        "model.add(keras.layers.Dense(1, input_shape=(2,), activation='sigmoid'))\n",
        "model.compile(loss='binary_crossentropy', optimizer='adam', metrics=['accuracy'])"
      ],
      "execution_count": null,
      "outputs": []
    },
    {
      "cell_type": "code",
      "metadata": {
        "id": "doI2MhmPsfFD"
      },
      "source": [
        "model.summary()"
      ],
      "execution_count": null,
      "outputs": []
    },
    {
      "cell_type": "code",
      "metadata": {
        "id": "shylvD0eZ-8E"
      },
      "source": [
        "model.fit(X, Y, epochs=500)"
      ],
      "execution_count": null,
      "outputs": []
    },
    {
      "cell_type": "code",
      "metadata": {
        "colab": {
          "base_uri": "https://localhost:8080/"
        },
        "id": "5EKTgxniaz7q",
        "outputId": "e01f274e-950f-44ef-a553-19bf33282fca"
      },
      "source": [
        "print(model.predict([[188,13]]))"
      ],
      "execution_count": 7,
      "outputs": [
        {
          "output_type": "stream",
          "name": "stdout",
          "text": [
            "[[1.]]\n"
          ]
        }
      ]
    }
  ]
}