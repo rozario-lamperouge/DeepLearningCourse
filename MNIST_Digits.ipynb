{
  "nbformat": 4,
  "nbformat_minor": 0,
  "metadata": {
    "colab": {
      "name": "MNIST Digits.ipynb",
      "provenance": [],
      "authorship_tag": "ABX9TyNQT1QsHGVUOnHJ57pc+Xjj",
      "include_colab_link": true
    },
    "kernelspec": {
      "name": "python3",
      "display_name": "Python 3"
    },
    "language_info": {
      "name": "python"
    }
  },
  "cells": [
    {
      "cell_type": "markdown",
      "metadata": {
        "id": "view-in-github",
        "colab_type": "text"
      },
      "source": [
        "<a href=\"https://colab.research.google.com/github/rozario-lamperouge/DeepLearningCourse/blob/main/MNIST_Digits.ipynb\" target=\"_parent\"><img src=\"https://colab.research.google.com/assets/colab-badge.svg\" alt=\"Open In Colab\"/></a>"
      ]
    },
    {
      "cell_type": "markdown",
      "source": [
        "# **MNIST Digit Classification**"
      ],
      "metadata": {
        "id": "WpKIFneVYv0d"
      }
    },
    {
      "cell_type": "markdown",
      "source": [
        "## **import dependencies**"
      ],
      "metadata": {
        "id": "UwjD6LXIZNA6"
      }
    },
    {
      "cell_type": "code",
      "execution_count": 1,
      "metadata": {
        "id": "4UQwKsx_Yt6H"
      },
      "outputs": [],
      "source": [
        "import tensorflow as tf\n",
        "import matplotlib.pyplot as plt\n",
        "import numpy as np"
      ]
    },
    {
      "cell_type": "markdown",
      "source": [
        "## **load the data**"
      ],
      "metadata": {
        "id": "RW2VEovQZMDJ"
      }
    },
    {
      "cell_type": "code",
      "source": [
        "mnist = tf.keras.datasets.mnist\n",
        "\n",
        "(X_train, Y_train),(X_test, Y_test) = mnist.load_data()"
      ],
      "metadata": {
        "colab": {
          "base_uri": "https://localhost:8080/"
        },
        "id": "ixPBOf31ZVby",
        "outputId": "30207ec8-029b-42b3-9743-aa09fe42581d"
      },
      "execution_count": 2,
      "outputs": [
        {
          "output_type": "stream",
          "name": "stdout",
          "text": [
            "Downloading data from https://storage.googleapis.com/tensorflow/tf-keras-datasets/mnist.npz\n",
            "11493376/11490434 [==============================] - 0s 0us/step\n",
            "11501568/11490434 [==============================] - 0s 0us/step\n"
          ]
        }
      ]
    },
    {
      "cell_type": "markdown",
      "source": [
        "## **Explore the Data**"
      ],
      "metadata": {
        "id": "hyabtTF4ZfxM"
      }
    },
    {
      "cell_type": "code",
      "source": [
        "print(\"training data : \", len(X_train))\n",
        "print(\"testing data : \",len(X_test))"
      ],
      "metadata": {
        "colab": {
          "base_uri": "https://localhost:8080/"
        },
        "id": "LnpsXJ9TbATj",
        "outputId": "45c2d112-cdda-4fa1-ad15-bb8aa734a974"
      },
      "execution_count": 13,
      "outputs": [
        {
          "output_type": "stream",
          "name": "stdout",
          "text": [
            "training data :  60000\n",
            "testing data :  10000\n"
          ]
        }
      ]
    },
    {
      "cell_type": "code",
      "source": [
        "i = 2679\n",
        "\n",
        "np.set_printoptions(linewidth=200)\n",
        "print(X_train[i])\n",
        "print(Y_train[i])\n",
        "\n",
        "plt.imshow(X_train[i], cmap='gray')"
      ],
      "metadata": {
        "colab": {
          "base_uri": "https://localhost:8080/",
          "height": 810
        },
        "id": "GWzPj48nZjp7",
        "outputId": "468bac05-1b74-4f8d-a28f-98e416d0df47"
      },
      "execution_count": 3,
      "outputs": [
        {
          "output_type": "stream",
          "name": "stdout",
          "text": [
            "[[  0   0   0   0   0   0   0   0   0   0   0   0   0   0   0   0   0   0   0   0   0   0   0   0   0   0   0   0]\n",
            " [  0   0   0   0   0   0   0   0   0   0   0   0   0   0   0   0   0   0   0   0   0   0   0   0   0   0   0   0]\n",
            " [  0   0   0   0   0   0   0   0   0   0   0   0   0   0   0   0   0   0   0   0   0   0   0   0   0   0   0   0]\n",
            " [  0   0   0   0   0   0   0   0   0   0   0   0   0   0   0   0   0   0   0   0   0   0   0   0   0   0   0   0]\n",
            " [  0   0   0   0   0   0   0   0   0   0   0   0   0   0   0  11 128 254 168   0   0   0   0   0   0   0   0   0]\n",
            " [  0   0   0   0   0   0   0   0   0   0   0   0   0   5  70 254 253 253 231  16   0   0   0   0   0   0   0   0]\n",
            " [  0   0   0   0   0   0   0   0   0   0   0   0   7 144 253 254 253 253 151   0   0   0   0   0   0   0   0   0]\n",
            " [  0   0   0   0   0   0   0   0   0   0   0   0  93 248 253 176 130 231  58  67 157 196  93   0   0   0   0   0]\n",
            " [  0   0   0   0   0   0   0   0   0   0   0  42 214 253 200  16  25  76  69 228 253 217 126   6   0   0   0   0]\n",
            " [  0   0   0   0   0   0   0   0   0   0   0 113 253 253  47   0  27  45 226 253 153   6   0   0   0   0   0   0]\n",
            " [  0   0   0   0   0   0   0   0   0   0   0 113 253 253  34   0  52 245 253 180   6   0   0   0   0   0   0   0]\n",
            " [  0   0   0   0   0   0   0   0   0   0   0  92 253 253  82  48 222 253 223  36   0   0   0   0   0   0   0   0]\n",
            " [  0   0   0   0   0   0   0   0   0   0   0   4 180 253 216 222 253 222  46   0   0   0   0   0   0   0   0   0]\n",
            " [  0   0   0   0   0   0   0   0   0   0   0   0  53 243 253 254 248  73   0   0   0   0   0   0   0   0   0   0]\n",
            " [  0   0   0   0   0   0   0   0   0   0   0   0   5 239 254 255 243  50   0   0   0   0   0   0   0   0   0   0]\n",
            " [  0   0   0   0   0   0   0   0   0   0   0  10 207 253 242 248 253 164  22   0   0   0   0   0   0   0   0   0]\n",
            " [  0   0   0   0   0   0   0   0   0   0   5 150 253 238  81 104 253 253  92   0   0   0   0   0   0   0   0   0]\n",
            " [  0   0   0   0   0   0   0   0   0  16 128 253 234  59   0   2 170 253 212  16   0   0   0   0   0   0   0   0]\n",
            " [  0   0   0   0   0   0   0   0  19 197 253 230  63   0   0   0  88 253 236  51   0   0   0   0   0   0   0   0]\n",
            " [  0   0   0   0   0   0   0   0 183 253 253  72   0   0   0   0  99 253 232  18   0   0   0   0   0   0   0   0]\n",
            " [  0   0   0   0   0   0   0 138 246 244  85   5   0   0  19 169 233 253 198   7   0   0   0   0   0   0   0   0]\n",
            " [  0   0   0   0   0   0  68 247 253 169  66 111 168 229 237 254 253 253  72   0   0   0   0   0   0   0   0   0]\n",
            " [  0   0   0   0   0   0  70 253 253 253 253 253 253 253 253 251 122  37   4   0   0   0   0   0   0   0   0   0]\n",
            " [  0   0   0   0   0   0  33 158 253 253 253 253 232 147  63   8   0   0   0   0   0   0   0   0   0   0   0   0]\n",
            " [  0   0   0   0   0   0   0   0   0   0   0   0   0   0   0   0   0   0   0   0   0   0   0   0   0   0   0   0]\n",
            " [  0   0   0   0   0   0   0   0   0   0   0   0   0   0   0   0   0   0   0   0   0   0   0   0   0   0   0   0]\n",
            " [  0   0   0   0   0   0   0   0   0   0   0   0   0   0   0   0   0   0   0   0   0   0   0   0   0   0   0   0]\n",
            " [  0   0   0   0   0   0   0   0   0   0   0   0   0   0   0   0   0   0   0   0   0   0   0   0   0   0   0   0]]\n",
            "8\n"
          ]
        },
        {
          "output_type": "execute_result",
          "data": {
            "text/plain": [
              "<matplotlib.image.AxesImage at 0x7f9d039d4990>"
            ]
          },
          "metadata": {},
          "execution_count": 3
        },
        {
          "output_type": "display_data",
          "data": {
            "text/plain": [
              "<Figure size 432x288 with 1 Axes>"
            ],
            "image/png": "[encoded data removed]"
          },
          "metadata": {
            "needs_background": "light"
          }
        }
      ]
    },
    {
      "cell_type": "markdown",
      "source": [
        "## **Normalize the Data**"
      ],
      "metadata": {
        "id": "-5MHER8YZl9b"
      }
    },
    {
      "cell_type": "code",
      "source": [
        "X_train,X_test = X_train/255.0 , X_test/255.0"
      ],
      "metadata": {
        "id": "mi1dIcJCZs0M"
      },
      "execution_count": 4,
      "outputs": []
    },
    {
      "cell_type": "markdown",
      "source": [
        "## **Construct the Neural Network**"
      ],
      "metadata": {
        "id": "lHfRmrvqaEUY"
      }
    },
    {
      "cell_type": "code",
      "source": [
        "model = tf.keras.Sequential([tf.keras.layers.Flatten(),\n",
        "                             tf.keras.layers.Dense(128,activation=tf.nn.relu),\n",
        "                             tf.keras.layers.Dense(10,activation=tf.nn.softmax)])"
      ],
      "metadata": {
        "id": "gHLOm2XEaD6Z"
      },
      "execution_count": 5,
      "outputs": []
    },
    {
      "cell_type": "code",
      "source": [
        "model.compile(optimizer='adam',loss='sparse_categorical_crossentropy',metrics=['acc'])"
      ],
      "metadata": {
        "id": "2BFDVAERaMAx"
      },
      "execution_count": 6,
      "outputs": []
    },
    {
      "cell_type": "code",
      "source": [
        "model.fit(X_train,Y_train,epochs=10)"
      ],
      "metadata": {
        "colab": {
          "base_uri": "https://localhost:8080/"
        },
        "id": "MFN65FmwaOI1",
        "outputId": "6c853aaf-73aa-4218-b7a0-0401b12678ff"
      },
      "execution_count": 7,
      "outputs": [
        {
          "output_type": "stream",
          "name": "stdout",
          "text": [
            "Epoch 1/10\n",
            "1875/1875 [==============================] - 4s 2ms/step - loss: 0.2591 - acc: 0.9262\n",
            "Epoch 2/10\n",
            "1875/1875 [==============================] - 4s 2ms/step - loss: 0.1145 - acc: 0.9660\n",
            "Epoch 3/10\n",
            "1875/1875 [==============================] - 4s 2ms/step - loss: 0.0795 - acc: 0.9760\n",
            "Epoch 4/10\n",
            "1875/1875 [==============================] - 4s 2ms/step - loss: 0.0589 - acc: 0.9817\n",
            "Epoch 5/10\n",
            "1875/1875 [==============================] - 4s 2ms/step - loss: 0.0468 - acc: 0.9851\n",
            "Epoch 6/10\n",
            "1875/1875 [==============================] - 4s 2ms/step - loss: 0.0371 - acc: 0.9891\n",
            "Epoch 7/10\n",
            "1875/1875 [==============================] - 4s 2ms/step - loss: 0.0290 - acc: 0.9908\n",
            "Epoch 8/10\n",
            "1875/1875 [==============================] - 4s 2ms/step - loss: 0.0236 - acc: 0.9925\n",
            "Epoch 9/10\n",
            "1875/1875 [==============================] - 4s 2ms/step - loss: 0.0189 - acc: 0.9940\n",
            "Epoch 10/10\n",
            "1875/1875 [==============================] - 4s 2ms/step - loss: 0.0159 - acc: 0.9951\n"
          ]
        },
        {
          "output_type": "execute_result",
          "data": {
            "text/plain": [
              "<keras.callbacks.History at 0x7f9d039d4cd0>"
            ]
          },
          "metadata": {},
          "execution_count": 7
        }
      ]
    },
    {
      "cell_type": "markdown",
      "source": [
        "## **Test Our Model**"
      ],
      "metadata": {
        "id": "c2noPmyfaUqZ"
      }
    },
    {
      "cell_type": "code",
      "source": [
        "model.evaluate(X_test,Y_test)"
      ],
      "metadata": {
        "colab": {
          "base_uri": "https://localhost:8080/"
        },
        "id": "UC7uRle_aYxJ",
        "outputId": "8dca8f64-79d8-49a2-e03a-bf08a30d5b71"
      },
      "execution_count": 8,
      "outputs": [
        {
          "output_type": "stream",
          "name": "stdout",
          "text": [
            "313/313 [==============================] - 1s 1ms/step - loss: 0.0812 - acc: 0.9789\n"
          ]
        },
        {
          "output_type": "execute_result",
          "data": {
            "text/plain": [
              "[0.08121369779109955, 0.9789000153541565]"
            ]
          },
          "metadata": {},
          "execution_count": 8
        }
      ]
    }
  ]
}